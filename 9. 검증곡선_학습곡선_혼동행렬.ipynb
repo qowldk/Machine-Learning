{
  "nbformat": 4,
  "nbformat_minor": 0,
  "metadata": {
    "colab": {
      "provenance": []
    },
    "kernelspec": {
      "name": "python3",
      "display_name": "Python 3"
    },
    "language_info": {
      "name": "python"
    }
  },
  "cells": [
    {
      "cell_type": "code",
      "execution_count": 1,
      "metadata": {
        "id": "D_rTv8rvpHe8"
      },
      "outputs": [],
      "source": [
        "path = '/content/drive/MyDrive/fruit_data_with_colors.txt'"
      ]
    },
    {
      "cell_type": "code",
      "source": [
        "import numpy as np\n",
        "import pandas as pd\n",
        "import matplotlib.pyplot as plt\n",
        "import seaborn as sns"
      ],
      "metadata": {
        "id": "QLj6FKhZpaak"
      },
      "execution_count": 2,
      "outputs": []
    },
    {
      "cell_type": "code",
      "source": [
        "from sklearn.model_selection import train_test_split\n",
        "from sklearn.neighbors import KNeighborsClassifier"
      ],
      "metadata": {
        "id": "bmnia6ompgHz"
      },
      "execution_count": 3,
      "outputs": []
    },
    {
      "cell_type": "code",
      "source": [
        "fruits = pd.read_table(path)\n",
        "\n",
        "X_fruits = fruits[['height', 'width', 'mass', 'color_score']]\n",
        "Y_fruits = fruits['fruit_label']\n",
        "\n",
        "X_train, X_test, Y_train, Y_test = train_test_split(X_fruits, Y_fruits, test_size=0.2)"
      ],
      "metadata": {
        "id": "Eyxw1kZRpt0F"
      },
      "execution_count": 9,
      "outputs": []
    },
    {
      "cell_type": "code",
      "source": [
        "X_train.head()"
      ],
      "metadata": {
        "colab": {
          "base_uri": "https://localhost:8080/",
          "height": 206
        },
        "id": "Bd4dkyqUqSlO",
        "outputId": "7f2a30b8-e9d9-446b-c037-d8e7df5a6e91"
      },
      "execution_count": 10,
      "outputs": [
        {
          "output_type": "execute_result",
          "data": {
            "text/plain": [
              "    height  width  mass  color_score\n",
              "39     7.4    6.8   144         0.75\n",
              "47     9.7    7.3   196         0.72\n",
              "29     7.4    7.0   160         0.81\n",
              "16     7.5    7.6   156         0.67\n",
              "11     7.6    7.1   172         0.92"
            ],
            "text/html": [
              "\n",
              "  <div id=\"df-5e7abb68-ef34-4270-ba0a-3a540be87a28\" class=\"colab-df-container\">\n",
              "    <div>\n",
              "<style scoped>\n",
              "    .dataframe tbody tr th:only-of-type {\n",
              "        vertical-align: middle;\n",
              "    }\n",
              "\n",
              "    .dataframe tbody tr th {\n",
              "        vertical-align: top;\n",
              "    }\n",
              "\n",
              "    .dataframe thead th {\n",
              "        text-align: right;\n",
              "    }\n",
              "</style>\n",
              "<table border=\"1\" class=\"dataframe\">\n",
              "  <thead>\n",
              "    <tr style=\"text-align: right;\">\n",
              "      <th></th>\n",
              "      <th>height</th>\n",
              "      <th>width</th>\n",
              "      <th>mass</th>\n",
              "      <th>color_score</th>\n",
              "    </tr>\n",
              "  </thead>\n",
              "  <tbody>\n",
              "    <tr>\n",
              "      <th>39</th>\n",
              "      <td>7.4</td>\n",
              "      <td>6.8</td>\n",
              "      <td>144</td>\n",
              "      <td>0.75</td>\n",
              "    </tr>\n",
              "    <tr>\n",
              "      <th>47</th>\n",
              "      <td>9.7</td>\n",
              "      <td>7.3</td>\n",
              "      <td>196</td>\n",
              "      <td>0.72</td>\n",
              "    </tr>\n",
              "    <tr>\n",
              "      <th>29</th>\n",
              "      <td>7.4</td>\n",
              "      <td>7.0</td>\n",
              "      <td>160</td>\n",
              "      <td>0.81</td>\n",
              "    </tr>\n",
              "    <tr>\n",
              "      <th>16</th>\n",
              "      <td>7.5</td>\n",
              "      <td>7.6</td>\n",
              "      <td>156</td>\n",
              "      <td>0.67</td>\n",
              "    </tr>\n",
              "    <tr>\n",
              "      <th>11</th>\n",
              "      <td>7.6</td>\n",
              "      <td>7.1</td>\n",
              "      <td>172</td>\n",
              "      <td>0.92</td>\n",
              "    </tr>\n",
              "  </tbody>\n",
              "</table>\n",
              "</div>\n",
              "    <div class=\"colab-df-buttons\">\n",
              "\n",
              "  <div class=\"colab-df-container\">\n",
              "    <button class=\"colab-df-convert\" onclick=\"convertToInteractive('df-5e7abb68-ef34-4270-ba0a-3a540be87a28')\"\n",
              "            title=\"Convert this dataframe to an interactive table.\"\n",
              "            style=\"display:none;\">\n",
              "\n",
              "  <svg xmlns=\"http://www.w3.org/2000/svg\" height=\"24px\" viewBox=\"0 -960 960 960\">\n",
              "    <path d=\"M120-120v-720h720v720H120Zm60-500h600v-160H180v160Zm220 220h160v-160H400v160Zm0 220h160v-160H400v160ZM180-400h160v-160H180v160Zm440 0h160v-160H620v160ZM180-180h160v-160H180v160Zm440 0h160v-160H620v160Z\"/>\n",
              "  </svg>\n",
              "    </button>\n",
              "\n",
              "  <style>\n",
              "    .colab-df-container {\n",
              "      display:flex;\n",
              "      gap: 12px;\n",
              "    }\n",
              "\n",
              "    .colab-df-convert {\n",
              "      background-color: #E8F0FE;\n",
              "      border: none;\n",
              "      border-radius: 50%;\n",
              "      cursor: pointer;\n",
              "      display: none;\n",
              "      fill: #1967D2;\n",
              "      height: 32px;\n",
              "      padding: 0 0 0 0;\n",
              "      width: 32px;\n",
              "    }\n",
              "\n",
              "    .colab-df-convert:hover {\n",
              "      background-color: #E2EBFA;\n",
              "      box-shadow: 0px 1px 2px rgba(60, 64, 67, 0.3), 0px 1px 3px 1px rgba(60, 64, 67, 0.15);\n",
              "      fill: #174EA6;\n",
              "    }\n",
              "\n",
              "    .colab-df-buttons div {\n",
              "      margin-bottom: 4px;\n",
              "    }\n",
              "\n",
              "    [theme=dark] .colab-df-convert {\n",
              "      background-color: #3B4455;\n",
              "      fill: #D2E3FC;\n",
              "    }\n",
              "\n",
              "    [theme=dark] .colab-df-convert:hover {\n",
              "      background-color: #434B5C;\n",
              "      box-shadow: 0px 1px 3px 1px rgba(0, 0, 0, 0.15);\n",
              "      filter: drop-shadow(0px 1px 2px rgba(0, 0, 0, 0.3));\n",
              "      fill: #FFFFFF;\n",
              "    }\n",
              "  </style>\n",
              "\n",
              "    <script>\n",
              "      const buttonEl =\n",
              "        document.querySelector('#df-5e7abb68-ef34-4270-ba0a-3a540be87a28 button.colab-df-convert');\n",
              "      buttonEl.style.display =\n",
              "        google.colab.kernel.accessAllowed ? 'block' : 'none';\n",
              "\n",
              "      async function convertToInteractive(key) {\n",
              "        const element = document.querySelector('#df-5e7abb68-ef34-4270-ba0a-3a540be87a28');\n",
              "        const dataTable =\n",
              "          await google.colab.kernel.invokeFunction('convertToInteractive',\n",
              "                                                    [key], {});\n",
              "        if (!dataTable) return;\n",
              "\n",
              "        const docLinkHtml = 'Like what you see? Visit the ' +\n",
              "          '<a target=\"_blank\" href=https://colab.research.google.com/notebooks/data_table.ipynb>data table notebook</a>'\n",
              "          + ' to learn more about interactive tables.';\n",
              "        element.innerHTML = '';\n",
              "        dataTable['output_type'] = 'display_data';\n",
              "        await google.colab.output.renderOutput(dataTable, element);\n",
              "        const docLink = document.createElement('div');\n",
              "        docLink.innerHTML = docLinkHtml;\n",
              "        element.appendChild(docLink);\n",
              "      }\n",
              "    </script>\n",
              "  </div>\n",
              "\n",
              "\n",
              "<div id=\"df-e6867ee9-103d-48a3-bdd1-1a31befe6b67\">\n",
              "  <button class=\"colab-df-quickchart\" onclick=\"quickchart('df-e6867ee9-103d-48a3-bdd1-1a31befe6b67')\"\n",
              "            title=\"Suggest charts\"\n",
              "            style=\"display:none;\">\n",
              "\n",
              "<svg xmlns=\"http://www.w3.org/2000/svg\" height=\"24px\"viewBox=\"0 0 24 24\"\n",
              "     width=\"24px\">\n",
              "    <g>\n",
              "        <path d=\"M19 3H5c-1.1 0-2 .9-2 2v14c0 1.1.9 2 2 2h14c1.1 0 2-.9 2-2V5c0-1.1-.9-2-2-2zM9 17H7v-7h2v7zm4 0h-2V7h2v10zm4 0h-2v-4h2v4z\"/>\n",
              "    </g>\n",
              "</svg>\n",
              "  </button>\n",
              "\n",
              "<style>\n",
              "  .colab-df-quickchart {\n",
              "      --bg-color: #E8F0FE;\n",
              "      --fill-color: #1967D2;\n",
              "      --hover-bg-color: #E2EBFA;\n",
              "      --hover-fill-color: #174EA6;\n",
              "      --disabled-fill-color: #AAA;\n",
              "      --disabled-bg-color: #DDD;\n",
              "  }\n",
              "\n",
              "  [theme=dark] .colab-df-quickchart {\n",
              "      --bg-color: #3B4455;\n",
              "      --fill-color: #D2E3FC;\n",
              "      --hover-bg-color: #434B5C;\n",
              "      --hover-fill-color: #FFFFFF;\n",
              "      --disabled-bg-color: #3B4455;\n",
              "      --disabled-fill-color: #666;\n",
              "  }\n",
              "\n",
              "  .colab-df-quickchart {\n",
              "    background-color: var(--bg-color);\n",
              "    border: none;\n",
              "    border-radius: 50%;\n",
              "    cursor: pointer;\n",
              "    display: none;\n",
              "    fill: var(--fill-color);\n",
              "    height: 32px;\n",
              "    padding: 0;\n",
              "    width: 32px;\n",
              "  }\n",
              "\n",
              "  .colab-df-quickchart:hover {\n",
              "    background-color: var(--hover-bg-color);\n",
              "    box-shadow: 0 1px 2px rgba(60, 64, 67, 0.3), 0 1px 3px 1px rgba(60, 64, 67, 0.15);\n",
              "    fill: var(--button-hover-fill-color);\n",
              "  }\n",
              "\n",
              "  .colab-df-quickchart-complete:disabled,\n",
              "  .colab-df-quickchart-complete:disabled:hover {\n",
              "    background-color: var(--disabled-bg-color);\n",
              "    fill: var(--disabled-fill-color);\n",
              "    box-shadow: none;\n",
              "  }\n",
              "\n",
              "  .colab-df-spinner {\n",
              "    border: 2px solid var(--fill-color);\n",
              "    border-color: transparent;\n",
              "    border-bottom-color: var(--fill-color);\n",
              "    animation:\n",
              "      spin 1s steps(1) infinite;\n",
              "  }\n",
              "\n",
              "  @keyframes spin {\n",
              "    0% {\n",
              "      border-color: transparent;\n",
              "      border-bottom-color: var(--fill-color);\n",
              "      border-left-color: var(--fill-color);\n",
              "    }\n",
              "    20% {\n",
              "      border-color: transparent;\n",
              "      border-left-color: var(--fill-color);\n",
              "      border-top-color: var(--fill-color);\n",
              "    }\n",
              "    30% {\n",
              "      border-color: transparent;\n",
              "      border-left-color: var(--fill-color);\n",
              "      border-top-color: var(--fill-color);\n",
              "      border-right-color: var(--fill-color);\n",
              "    }\n",
              "    40% {\n",
              "      border-color: transparent;\n",
              "      border-right-color: var(--fill-color);\n",
              "      border-top-color: var(--fill-color);\n",
              "    }\n",
              "    60% {\n",
              "      border-color: transparent;\n",
              "      border-right-color: var(--fill-color);\n",
              "    }\n",
              "    80% {\n",
              "      border-color: transparent;\n",
              "      border-right-color: var(--fill-color);\n",
              "      border-bottom-color: var(--fill-color);\n",
              "    }\n",
              "    90% {\n",
              "      border-color: transparent;\n",
              "      border-bottom-color: var(--fill-color);\n",
              "    }\n",
              "  }\n",
              "</style>\n",
              "\n",
              "  <script>\n",
              "    async function quickchart(key) {\n",
              "      const quickchartButtonEl =\n",
              "        document.querySelector('#' + key + ' button');\n",
              "      quickchartButtonEl.disabled = true;  // To prevent multiple clicks.\n",
              "      quickchartButtonEl.classList.add('colab-df-spinner');\n",
              "      try {\n",
              "        const charts = await google.colab.kernel.invokeFunction(\n",
              "            'suggestCharts', [key], {});\n",
              "      } catch (error) {\n",
              "        console.error('Error during call to suggestCharts:', error);\n",
              "      }\n",
              "      quickchartButtonEl.classList.remove('colab-df-spinner');\n",
              "      quickchartButtonEl.classList.add('colab-df-quickchart-complete');\n",
              "    }\n",
              "    (() => {\n",
              "      let quickchartButtonEl =\n",
              "        document.querySelector('#df-e6867ee9-103d-48a3-bdd1-1a31befe6b67 button');\n",
              "      quickchartButtonEl.style.display =\n",
              "        google.colab.kernel.accessAllowed ? 'block' : 'none';\n",
              "    })();\n",
              "  </script>\n",
              "</div>\n",
              "\n",
              "    </div>\n",
              "  </div>\n"
            ],
            "application/vnd.google.colaboratory.intrinsic+json": {
              "type": "dataframe",
              "variable_name": "X_train",
              "summary": "{\n  \"name\": \"X_train\",\n  \"rows\": 47,\n  \"fields\": [\n    {\n      \"column\": \"height\",\n      \"properties\": {\n        \"dtype\": \"number\",\n        \"std\": 1.3319839764796422,\n        \"min\": 4.0,\n        \"max\": 10.3,\n        \"num_unique_values\": 26,\n        \"samples\": [\n          7.9,\n          7.7,\n          7.4\n        ],\n        \"semantic_type\": \"\",\n        \"description\": \"\"\n      }\n    },\n    {\n      \"column\": \"width\",\n      \"properties\": {\n        \"dtype\": \"number\",\n        \"std\": 0.711085735491327,\n        \"min\": 5.8,\n        \"max\": 9.0,\n        \"num_unique_values\": 19,\n        \"samples\": [\n          6.8,\n          6.0,\n          5.8\n        ],\n        \"semantic_type\": \"\",\n        \"description\": \"\"\n      }\n    },\n    {\n      \"column\": \"mass\",\n      \"properties\": {\n        \"dtype\": \"number\",\n        \"std\": 42,\n        \"min\": 76,\n        \"max\": 342,\n        \"num_unique_values\": 34,\n        \"samples\": [\n          154,\n          178,\n          162\n        ],\n        \"semantic_type\": \"\",\n        \"description\": \"\"\n      }\n    },\n    {\n      \"column\": \"color_score\",\n      \"properties\": {\n        \"dtype\": \"number\",\n        \"std\": 0.07477131339088519,\n        \"min\": 0.55,\n        \"max\": 0.92,\n        \"num_unique_values\": 24,\n        \"samples\": [\n          0.7,\n          0.79,\n          0.75\n        ],\n        \"semantic_type\": \"\",\n        \"description\": \"\"\n      }\n    }\n  ]\n}"
            }
          },
          "metadata": {},
          "execution_count": 10
        }
      ]
    },
    {
      "cell_type": "code",
      "source": [
        "from sklearn.preprocessing import MinMaxScaler\n",
        "\n",
        "scaler = MinMaxScaler()\n",
        "X_train_sca = scaler.fit_transform(X_train)\n",
        "X_test_sca = scaler.fit_transform(X_test)"
      ],
      "metadata": {
        "id": "q-db6Pd3qqGU"
      },
      "execution_count": 11,
      "outputs": []
    },
    {
      "cell_type": "code",
      "source": [
        "X_train_sca"
      ],
      "metadata": {
        "colab": {
          "base_uri": "https://localhost:8080/"
        },
        "id": "MHKDSsySq-Pj",
        "outputId": "b7e02d0c-290c-4871-c24f-8f10af167709"
      },
      "execution_count": 12,
      "outputs": [
        {
          "output_type": "execute_result",
          "data": {
            "text/plain": [
              "array([[0.53968254, 0.3125    , 0.2556391 , 0.54054054],\n",
              "       [0.9047619 , 0.46875   , 0.45112782, 0.45945946],\n",
              "       [0.53968254, 0.375     , 0.31578947, 0.7027027 ],\n",
              "       [0.55555556, 0.5625    , 0.30075188, 0.32432432],\n",
              "       [0.57142857, 0.40625   , 0.36090226, 1.        ],\n",
              "       [0.6984127 , 0.0625    , 0.16541353, 0.51351351],\n",
              "       [0.82539683, 0.4375    , 0.41353383, 0.45945946],\n",
              "       [0.57142857, 0.53125   , 0.34586466, 0.48648649],\n",
              "       [0.47619048, 0.4375    , 0.33082707, 0.67567568],\n",
              "       [0.65079365, 0.09375   , 0.15789474, 0.40540541],\n",
              "       [0.61904762, 0.40625   , 0.27819549, 0.54054054],\n",
              "       [0.6031746 , 0.4375    , 0.30827068, 0.59459459],\n",
              "       [0.04761905, 0.03125   , 0.01503759, 0.7027027 ],\n",
              "       [0.52380952, 0.8125    , 0.43609023, 0.        ],\n",
              "       [0.98412698, 0.46875   , 0.52631579, 0.43243243],\n",
              "       [0.50793651, 0.4375    , 0.29323308, 0.72972973],\n",
              "       [0.        , 0.        , 0.        , 0.7027027 ],\n",
              "       [0.65079365, 0.53125   , 0.42857143, 0.51351351],\n",
              "       [0.55555556, 0.40625   , 0.29323308, 0.62162162],\n",
              "       [1.        , 0.4375    , 0.44360902, 0.40540541],\n",
              "       [0.58730159, 0.46875   , 0.33082707, 0.40540541],\n",
              "       [0.6031746 , 0.40625   , 0.38345865, 1.        ],\n",
              "       [0.52380952, 0.5625    , 0.28571429, 0.37837838],\n",
              "       [0.96825397, 0.46875   , 0.36842105, 0.45945946],\n",
              "       [0.11111111, 0.125     , 0.03759398, 0.67567568],\n",
              "       [0.82539683, 0.53125   , 0.48120301, 0.59459459],\n",
              "       [0.61904762, 0.5625    , 0.35338346, 0.89189189],\n",
              "       [0.55555556, 0.0625    , 0.15037594, 0.45945946],\n",
              "       [0.55555556, 0.40625   , 0.30827068, 0.64864865],\n",
              "       [0.50793651, 0.5       , 0.37593985, 0.13513514],\n",
              "       [0.53968254, 0.5       , 0.30075188, 0.78378378],\n",
              "       [0.49206349, 0.53125   , 0.32330827, 0.75675676],\n",
              "       [0.52380952, 0.46875   , 0.29323308, 0.64864865],\n",
              "       [0.55555556, 0.53125   , 0.31578947, 0.83783784],\n",
              "       [0.74603175, 0.        , 0.21052632, 0.48648649],\n",
              "       [0.71428571, 0.21875   , 0.28571429, 0.45945946],\n",
              "       [0.50793651, 0.5       , 0.32330827, 0.81081081],\n",
              "       [0.58730159, 0.15625   , 0.15037594, 0.45945946],\n",
              "       [0.49206349, 0.28125   , 0.2406015 , 0.45945946],\n",
              "       [0.71428571, 0.09375   , 0.15037594, 0.43243243],\n",
              "       [0.85714286, 1.        , 1.        , 0.54054054],\n",
              "       [0.57142857, 0.40625   , 0.31578947, 0.56756757],\n",
              "       [0.44444444, 0.6875    , 0.39097744, 0.10810811],\n",
              "       [0.66666667, 0.0625    , 0.20300752, 0.43243243],\n",
              "       [0.65079365, 0.03125   , 0.15037594, 0.48648649],\n",
              "       [0.0952381 , 0.0625    , 0.03007519, 0.64864865],\n",
              "       [0.66666667, 0.5625    , 0.39097744, 0.64864865]])"
            ]
          },
          "metadata": {},
          "execution_count": 12
        }
      ]
    },
    {
      "cell_type": "code",
      "source": [
        "from sklearn.model_selection import cross_val_score\n",
        "\n",
        "clf = KNeighborsClassifier(n_neighbors=5)\n",
        "X = X_train_sca\n",
        "Y = Y_train"
      ],
      "metadata": {
        "id": "ZAL5RQ5_rzFh"
      },
      "execution_count": 13,
      "outputs": []
    },
    {
      "cell_type": "code",
      "source": [
        "cv_score = cross_val_score(clf, X, Y)\n",
        "\n",
        "print(f\"Cross-Valid-score {cv_score}\")\n",
        "print(f\"mean : {np.mean(cv_score)}\")"
      ],
      "metadata": {
        "colab": {
          "base_uri": "https://localhost:8080/"
        },
        "id": "DLZFKfqDscGk",
        "outputId": "a929ad3e-254b-406c-e693-d426fe59d0e1"
      },
      "execution_count": 15,
      "outputs": [
        {
          "output_type": "stream",
          "name": "stdout",
          "text": [
            "Cross-Valid-score [0.9        1.         0.88888889 0.77777778 0.88888889]\n",
            "mean : 0.8911111111111112\n"
          ]
        },
        {
          "output_type": "stream",
          "name": "stderr",
          "text": [
            "/usr/local/lib/python3.10/dist-packages/sklearn/model_selection/_split.py:700: UserWarning: The least populated class in y has only 4 members, which is less than n_splits=5.\n",
            "  warnings.warn(\n"
          ]
        }
      ]
    },
    {
      "cell_type": "markdown",
      "source": [
        "## 검증곡선"
      ],
      "metadata": {
        "id": "CLFa0j2_tNWA"
      }
    },
    {
      "cell_type": "code",
      "source": [
        "from sklearn.svm import SVC\n",
        "from sklearn.model_selection import validation_curve"
      ],
      "metadata": {
        "id": "gcYqGoA9slxP"
      },
      "execution_count": 16,
      "outputs": []
    },
    {
      "cell_type": "code",
      "source": [
        "param_range = np.logspace(-3, 3, 4)\n",
        "train_score, test_score = validation_curve(SVC(), X, Y, param_name='gamma', param_range=param_range, cv=3)"
      ],
      "metadata": {
        "id": "jUtvhXwQtVme"
      },
      "execution_count": 17,
      "outputs": []
    },
    {
      "cell_type": "code",
      "source": [
        "plt.figure()\n",
        "\n",
        "# 학습, 데이터 스코어의 평균과 표준편차\n",
        "train_scores_mean = np.mean(train_score, axis=1)\n",
        "train_scores_std = np.std(train_score, axis=1)\n",
        "test_scores_mean = np.mean(test_score, axis=1)\n",
        "test_scores_std = np.std(test_score, axis=1)\n",
        "\n",
        "# 그래프의 틀 세팅\n",
        "# 타이틀, y축 범위\n",
        "plt.title(\"Validation Curve with SVM\")\n",
        "plt.ylim(0, 1.1)\n",
        "lw = 2\n",
        "\n",
        "# x축 값이 0.001~1000 까지의 값\n",
        "plt.semilogx(param_range, train_scores_mean, label=\"Training score\", color=\"darkorange\", lw=lw)\n",
        "\n",
        "plt.fill_between(param_range, train_scores_mean - train_scores_std, train_scores_mean + train_scores_std, alpha=0.2, color=\"darkorange\", lw=lw)\n",
        "\n",
        "plt.semilogx(param_range, test_scores_mean, label=\"Test score\", color=\"navy\", lw=lw)\n",
        "\n",
        "plt.fill_between(param_range, test_scores_mean - test_scores_std, test_scores_mean + test_scores_std, alpha=0.2, color=\"navy\", lw=lw)\n",
        "plt.show()"
      ],
      "metadata": {
        "colab": {
          "base_uri": "https://localhost:8080/",
          "height": 457
        },
        "id": "8QAR1pa-tkMp",
        "outputId": "d57c88a3-fbb2-4859-cbbc-8c9750f35cd2"
      },
      "execution_count": 19,
      "outputs": [
        {
          "output_type": "display_data",
          "data": {
            "text/plain": [
              "<Figure size 640x480 with 1 Axes>"
            ],
            "image/png": "[encoded data removed]"
          },
          "metadata": {}
        }
      ]
    },
    {
      "cell_type": "code",
      "source": [
        "from sklearn.datasets import load_digits\n",
        "\n",
        "# 손글씨 데이터셋 다운로드\n",
        "dataset = load_digits()\n",
        "X, Y = dataset.data, dataset.target\n",
        "\n",
        "# 데이터셋의 타겟 이름(0~9)과, 각 타겟별 데이터셋의 숫자를 출력\n",
        "for cls, clc in zip(dataset.target_names, np.bincount(dataset.target)) :\n",
        "  print(cls, clc)"
      ],
      "metadata": {
        "colab": {
          "base_uri": "https://localhost:8080/"
        },
        "id": "bNGutoktv8P8",
        "outputId": "f1e8f15a-4c01-488f-af1c-750a290e4f06"
      },
      "execution_count": 20,
      "outputs": [
        {
          "output_type": "stream",
          "name": "stdout",
          "text": [
            "0 178\n",
            "1 182\n",
            "2 177\n",
            "3 183\n",
            "4 181\n",
            "5 182\n",
            "6 181\n",
            "7 179\n",
            "8 174\n",
            "9 180\n"
          ]
        }
      ]
    },
    {
      "cell_type": "code",
      "source": [
        "# 1만 남기고, 1이 아닌 다른 것은 0으로 표시하는 데이터셋\n",
        "\n",
        "y_binary_imbalanced = Y.copy()\n",
        "y_binary_imbalanced[y_binary_imbalanced != 1] = 0\n",
        "\n",
        "print(f\"original_ : {Y[1:30]}\")\n",
        "print(f\"y_binary_imbalanced : {y_binary_imbalanced[1:30]}\")"
      ],
      "metadata": {
        "colab": {
          "base_uri": "https://localhost:8080/"
        },
        "id": "bMOGvEGtyhAj",
        "outputId": "5c770ae7-8ef3-4011-d3a1-399afd43cc5e"
      },
      "execution_count": 21,
      "outputs": [
        {
          "output_type": "stream",
          "name": "stdout",
          "text": [
            "original_ : [1 2 3 4 5 6 7 8 9 0 1 2 3 4 5 6 7 8 9 0 1 2 3 4 5 6 7 8 9]\n",
            "y_binary_imbalanced : [1 0 0 0 0 0 0 0 0 0 1 0 0 0 0 0 0 0 0 0 1 0 0 0 0 0 0 0 0]\n"
          ]
        }
      ]
    },
    {
      "cell_type": "code",
      "source": [
        "X_train, X_test, Y_train, Y_test = train_test_split(X, y_binary_imbalanced)"
      ],
      "metadata": {
        "id": "wB4AY-Fi3rnl"
      },
      "execution_count": 22,
      "outputs": []
    },
    {
      "cell_type": "code",
      "source": [
        "from sklearn.svm import SVC\n",
        "\n",
        "svm = SVC(kernel='rbf', C=1)\n",
        "svm.fit(X_train, Y_train)\n",
        "svm.score(X_test, Y_test)"
      ],
      "metadata": {
        "colab": {
          "base_uri": "https://localhost:8080/"
        },
        "id": "Pj8MOXH-4Exu",
        "outputId": "8465f96a-423b-48f1-acca-567255df11f9"
      },
      "execution_count": 23,
      "outputs": [
        {
          "output_type": "execute_result",
          "data": {
            "text/plain": [
              "1.0"
            ]
          },
          "metadata": {},
          "execution_count": 23
        }
      ]
    },
    {
      "cell_type": "code",
      "source": [
        "from sklearn.model_selection import learning_curve\n",
        "from sklearn.metrics import accuracy_score\n",
        "\n",
        "train_s, train_score, valid_score = learning_curve(svm, X_train, Y_train, cv=5, scoring='accuracy')"
      ],
      "metadata": {
        "id": "DuJaO4174TuY"
      },
      "execution_count": 26,
      "outputs": []
    },
    {
      "cell_type": "code",
      "source": [
        "train_score_mean = np.mean(train_score, axis=1)\n",
        "train_score_std = np.std(train_score, axis=1)\n",
        "valid_score_mean = np.mean(valid_score, axis=1)\n",
        "valid_score_std = np.std(valid_score, axis=1)\n",
        "\n",
        "y_pred = svm.predict(X_test)"
      ],
      "metadata": {
        "id": "zB5jsxZ747ge"
      },
      "execution_count": 27,
      "outputs": []
    },
    {
      "cell_type": "code",
      "source": [
        "test_accuracy = accuracy_score(Y_test, y_pred)"
      ],
      "metadata": {
        "id": "0hzHgDAx5Rhu"
      },
      "execution_count": 28,
      "outputs": []
    },
    {
      "cell_type": "code",
      "source": [
        "# 그래프 그리기\n",
        "plt.figure(figsize=(10, 6))\n",
        "plt.title(\"Learning Curve\")\n",
        "plt.xlabel(\"Training Example\")\n",
        "plt.ylabel(\"Score\")\n",
        "plt.grid()\n",
        "\n",
        "plt.plot(train_s, train_score_mean, label=\"Training score\", color=\"darkorange\", lw=lw)\n",
        "\n",
        "plt.fill_between(train_s, train_score_mean - train_score_std, train_score_mean + train_score_std, alpha=0.2, color=\"darkorange\", lw=lw)\n",
        "\n",
        "plt.plot(train_s, valid_score_mean, label=\"Training score\", color=\"green\", lw=lw)\n",
        "\n",
        "plt.fill_between(train_s, valid_score_mean - valid_score_std, valid_score_mean + valid_score_std, alpha=0.2, color=\"green\", lw=lw)"
      ],
      "metadata": {
        "colab": {
          "base_uri": "https://localhost:8080/",
          "height": 581
        },
        "id": "g82zNet55rB5",
        "outputId": "0d53f3f3-5627-4bd6-cedc-b0f9a3140cd6"
      },
      "execution_count": 30,
      "outputs": [
        {
          "output_type": "execute_result",
          "data": {
            "text/plain": [
              "<matplotlib.collections.PolyCollection at 0x7bc52212e7d0>"
            ]
          },
          "metadata": {},
          "execution_count": 30
        },
        {
          "output_type": "display_data",
          "data": {
            "text/plain": [
              "<Figure size 1000x600 with 1 Axes>"
            ],
            "image/png": "[encoded data removed]"
          },
          "metadata": {}
        }
      ]
    },
    {
      "cell_type": "markdown",
      "source": [
        "## 더미 클래시파이어"
      ],
      "metadata": {
        "id": "6qU85EYV813A"
      }
    },
    {
      "cell_type": "code",
      "source": [
        "from sklearn.dummy import DummyClassifier\n",
        "\n",
        "# train의 데이터셋을 \"신경쓰지 않고\", 아래의 전략에 따라 대답합니다.\n",
        "# most_frequent : 훈련 세트에서 가장 자주 나타나는 라벨로 대답\n",
        "# stratified : 훈련 세트의 클래스 분포를 따르도록 무작위로 대답\n",
        "# uniform : 클래스 레이블을 균등하게 랜덤으로 대답\n",
        "# constant : 특정 상수로 대답"
      ],
      "metadata": {
        "id": "uly13w_s7MOL"
      },
      "execution_count": 31,
      "outputs": []
    },
    {
      "cell_type": "code",
      "source": [
        "dummy_major = DummyClassifier(strategy='most_frequent').fit(X_train, Y_train)\n",
        "y_dummy_pred = dummy_major.predict(X_test)"
      ],
      "metadata": {
        "id": "DLuUG3jv-UbO"
      },
      "execution_count": 32,
      "outputs": []
    },
    {
      "cell_type": "code",
      "source": [
        "y_dummy_pred"
      ],
      "metadata": {
        "colab": {
          "base_uri": "https://localhost:8080/"
        },
        "id": "cNw313Z0-q9-",
        "outputId": "ed02f4c0-b0e5-4c50-a094-b3b34a0ac7e3"
      },
      "execution_count": 34,
      "outputs": [
        {
          "output_type": "execute_result",
          "data": {
            "text/plain": [
              "array([0, 0, 0, 0, 0, 0, 0, 0, 0, 0, 0, 0, 0, 0, 0, 0, 0, 0, 0, 0, 0, 0,\n",
              "       0, 0, 0, 0, 0, 0, 0, 0, 0, 0, 0, 0, 0, 0, 0, 0, 0, 0, 0, 0, 0, 0,\n",
              "       0, 0, 0, 0, 0, 0, 0, 0, 0, 0, 0, 0, 0, 0, 0, 0, 0, 0, 0, 0, 0, 0,\n",
              "       0, 0, 0, 0, 0, 0, 0, 0, 0, 0, 0, 0, 0, 0, 0, 0, 0, 0, 0, 0, 0, 0,\n",
              "       0, 0, 0, 0, 0, 0, 0, 0, 0, 0, 0, 0, 0, 0, 0, 0, 0, 0, 0, 0, 0, 0,\n",
              "       0, 0, 0, 0, 0, 0, 0, 0, 0, 0, 0, 0, 0, 0, 0, 0, 0, 0, 0, 0, 0, 0,\n",
              "       0, 0, 0, 0, 0, 0, 0, 0, 0, 0, 0, 0, 0, 0, 0, 0, 0, 0, 0, 0, 0, 0,\n",
              "       0, 0, 0, 0, 0, 0, 0, 0, 0, 0, 0, 0, 0, 0, 0, 0, 0, 0, 0, 0, 0, 0,\n",
              "       0, 0, 0, 0, 0, 0, 0, 0, 0, 0, 0, 0, 0, 0, 0, 0, 0, 0, 0, 0, 0, 0,\n",
              "       0, 0, 0, 0, 0, 0, 0, 0, 0, 0, 0, 0, 0, 0, 0, 0, 0, 0, 0, 0, 0, 0,\n",
              "       0, 0, 0, 0, 0, 0, 0, 0, 0, 0, 0, 0, 0, 0, 0, 0, 0, 0, 0, 0, 0, 0,\n",
              "       0, 0, 0, 0, 0, 0, 0, 0, 0, 0, 0, 0, 0, 0, 0, 0, 0, 0, 0, 0, 0, 0,\n",
              "       0, 0, 0, 0, 0, 0, 0, 0, 0, 0, 0, 0, 0, 0, 0, 0, 0, 0, 0, 0, 0, 0,\n",
              "       0, 0, 0, 0, 0, 0, 0, 0, 0, 0, 0, 0, 0, 0, 0, 0, 0, 0, 0, 0, 0, 0,\n",
              "       0, 0, 0, 0, 0, 0, 0, 0, 0, 0, 0, 0, 0, 0, 0, 0, 0, 0, 0, 0, 0, 0,\n",
              "       0, 0, 0, 0, 0, 0, 0, 0, 0, 0, 0, 0, 0, 0, 0, 0, 0, 0, 0, 0, 0, 0,\n",
              "       0, 0, 0, 0, 0, 0, 0, 0, 0, 0, 0, 0, 0, 0, 0, 0, 0, 0, 0, 0, 0, 0,\n",
              "       0, 0, 0, 0, 0, 0, 0, 0, 0, 0, 0, 0, 0, 0, 0, 0, 0, 0, 0, 0, 0, 0,\n",
              "       0, 0, 0, 0, 0, 0, 0, 0, 0, 0, 0, 0, 0, 0, 0, 0, 0, 0, 0, 0, 0, 0,\n",
              "       0, 0, 0, 0, 0, 0, 0, 0, 0, 0, 0, 0, 0, 0, 0, 0, 0, 0, 0, 0, 0, 0,\n",
              "       0, 0, 0, 0, 0, 0, 0, 0, 0, 0])"
            ]
          },
          "metadata": {},
          "execution_count": 34
        }
      ]
    },
    {
      "cell_type": "code",
      "source": [
        "dummy_major.score(X_test, Y_test)"
      ],
      "metadata": {
        "colab": {
          "base_uri": "https://localhost:8080/"
        },
        "id": "yyACDrFs-uXP",
        "outputId": "170940b8-6cfb-475d-d564-dc66a587efe7"
      },
      "execution_count": 35,
      "outputs": [
        {
          "output_type": "execute_result",
          "data": {
            "text/plain": [
              "0.92"
            ]
          },
          "metadata": {},
          "execution_count": 35
        }
      ]
    },
    {
      "cell_type": "markdown",
      "source": [
        "## 혼동 행렬과 스코어"
      ],
      "metadata": {
        "id": "YFfA51vi_NID"
      }
    },
    {
      "cell_type": "code",
      "source": [
        "from sklearn.metrics import confusion_matrix\n",
        "from sklearn.metrics import accuracy_score, precision_score, recall_score, f1_score"
      ],
      "metadata": {
        "id": "muGgI62P-3Hr"
      },
      "execution_count": 50,
      "outputs": []
    },
    {
      "cell_type": "code",
      "source": [
        "digits = load_digits()\n",
        "X, Y = dataset.data, dataset.target\n",
        "\n",
        "X_train, X_test, Y_train, Y_test = train_test_split(X, Y)"
      ],
      "metadata": {
        "id": "vq_E5RNM_npC"
      },
      "execution_count": 41,
      "outputs": []
    },
    {
      "cell_type": "code",
      "source": [
        "from sklearn.tree import DecisionTreeClassifier\n",
        "\n",
        "dt = DecisionTreeClassifier(max_depth=3)\n",
        "dt.fit(X_train, Y_train)\n",
        "\n",
        "tree_pred = dt.predict(X_test)"
      ],
      "metadata": {
        "id": "6IN872B8_vJZ"
      },
      "execution_count": 42,
      "outputs": []
    },
    {
      "cell_type": "code",
      "source": [
        "confusion_mat = confusion_matrix(Y_test, tree_pred)"
      ],
      "metadata": {
        "id": "5Dd3FmWUAHMS"
      },
      "execution_count": 51,
      "outputs": []
    },
    {
      "cell_type": "code",
      "source": [
        "confusion_mat"
      ],
      "metadata": {
        "colab": {
          "base_uri": "https://localhost:8080/"
        },
        "id": "0ufWShfiAfpk",
        "outputId": "7240e03b-7851-41c7-b318-9bf054a98c55"
      },
      "execution_count": 52,
      "outputs": [
        {
          "output_type": "execute_result",
          "data": {
            "text/plain": [
              "array([[44,  0,  0,  3,  0,  1,  0,  0,  0,  1],\n",
              "       [ 0,  0,  0, 36,  0,  7,  1,  1,  0,  0],\n",
              "       [ 0,  0,  0, 30,  0, 10,  3,  1,  0,  0],\n",
              "       [ 0,  0,  0, 35,  0,  1,  0,  2,  0,  0],\n",
              "       [ 0,  0,  0, 40,  0,  5,  5,  2,  0,  0],\n",
              "       [ 0,  0,  0,  5,  0, 34,  1,  0,  0,  1],\n",
              "       [ 0,  0,  0,  2,  0,  3, 42,  0,  0,  0],\n",
              "       [ 0,  0,  0, 13,  0,  3,  1, 27,  0,  0],\n",
              "       [ 0,  0,  0, 43,  0,  2,  0,  1,  0,  0],\n",
              "       [ 0,  0,  0, 29,  0,  1,  0,  3,  0, 11]])"
            ]
          },
          "metadata": {},
          "execution_count": 52
        }
      ]
    },
    {
      "cell_type": "code",
      "source": [
        "print(f\"Acc : {accuracy_score(Y_test, tree_pred)}\")\n",
        "# print(f\"Precision : {precision_score(Y_test, tree_pred)}\")\n",
        "# print(f\"Recall : {recall_score(Y_test, tree_pred)}\")\n",
        "# print(f\"F1 : {f1_score(Y_test, tree_pred)}\")"
      ],
      "metadata": {
        "colab": {
          "base_uri": "https://localhost:8080/"
        },
        "id": "XHXhOICUAzWD",
        "outputId": "dd24b79e-6518-4b08-af93-fcb8423c5c75"
      },
      "execution_count": 54,
      "outputs": [
        {
          "output_type": "stream",
          "name": "stdout",
          "text": [
            "Acc : 0.4288888888888889\n"
          ]
        }
      ]
    }
  ]
}